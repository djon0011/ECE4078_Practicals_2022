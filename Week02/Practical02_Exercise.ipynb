{
 "cells": [
  {
   "cell_type": "markdown",
   "source": "# Practical 02 Exercises",
   "metadata": {
    "cell_id": "2a0b5982-5277-4840-b6bf-76731011c2d3",
    "deepnote_cell_type": "markdown",
    "deepnote_cell_height": 82
   }
  },
  {
   "cell_type": "markdown",
   "source": "Note: Only the full trajectories will be displayed for Exercise 2 and 3",
   "metadata": {
    "cell_id": "00001-38498478-8199-4a5d-9c3e-2e44a7444a81",
    "deepnote_cell_type": "markdown",
    "deepnote_cell_height": 52.390625
   }
  },
  {
   "cell_type": "code",
   "metadata": {
    "cell_id": "00003-d396f4fb-6691-4704-beae-8380609490b0",
    "deepnote_to_be_reexecuted": false,
    "execution_millis": 606,
    "execution_start": 1659690484549,
    "source_hash": "12006dd8",
    "deepnote_cell_type": "code",
    "deepnote_cell_height": 112
   },
   "source": "import numpy as np\nfrom Practical02_Support.Renderer import *\nfrom ece4078.Utility import StartMeshcat",
   "outputs": [],
   "execution_count": null
  },
  {
   "cell_type": "code",
   "metadata": {
    "cell_id": "7d6106c67fc94f998573430e67f3f40b",
    "deepnote_to_be_reexecuted": false,
    "execution_millis": 15,
    "execution_start": 1659690485157,
    "source_hash": "34afddb1",
    "tags": [],
    "deepnote_cell_type": "code",
    "deepnote_cell_height": 179.5625,
    "deepnote_output_heights": [
     null,
     21.1875
    ]
   },
   "source": "vis = StartMeshcat()",
   "outputs": [
    {
     "name": "stdout",
     "text": "You can open the visualizer by visiting the following URL:\nhttp://127.0.0.1:8080/static/\n",
     "output_type": "stream"
    },
    {
     "data": {
      "text/plain": "<IPython.core.display.HTML object>",
      "text/html": "Meshcat URL if you are on Deepnote: <a href='https://9aa92eed-ac22-422b-9dcb-e90d130b2edd.deepnoteproject.com/static/' target='_blank'>https://9aa92eed-ac22-422b-9dcb-e90d130b2edd.deepnoteproject.com/static/</a>"
     },
     "metadata": {},
     "output_type": "display_data"
    }
   ],
   "execution_count": null
  },
  {
   "cell_type": "markdown",
   "source": "# Coding exercises",
   "metadata": {
    "cell_id": "00004-944a571e-50a9-4e78-84a6-2d21b56d556f",
    "deepnote_cell_type": "markdown",
    "deepnote_cell_height": 82
   }
  },
  {
   "cell_type": "markdown",
   "source": "# Exercise 1 (2pts): Determine the Location of the Rear Wheel \n    \n![bicycle.png](https://i.imgur.com/zIhei8A.png)\n\nGiven the known 2D location of the centre of the front wheel of the bicycle ($x_f$, $y_f$), determine the location of the centre of the rear wheel ($x, y$) in the world frame. \n\n**Input**:\n- 1D array of shape 2x1 with the location of the front wheel (front_wheel_loc)\n- Orientation of the bicycle in radians (theta)\n- Bicycle length (length)\n\n**Output**:\n- 1D array of shape 2x1 with the location of the rear wheel in the world frame (values should not be rounded)",
   "metadata": {
    "cell_id": "00005-7e7ddc12-aa65-46b9-818f-263f2837edfa",
    "deepnote_cell_type": "markdown",
    "deepnote_cell_height": 849.125
   }
  },
  {
   "cell_type": "code",
   "metadata": {
    "cell_id": "00006-97e3aef1-0f76-4fab-aad0-a1abf4d2d394",
    "deepnote_to_be_reexecuted": false,
    "execution_millis": 4,
    "execution_start": 1659690485174,
    "source_hash": "89b615a2",
    "deepnote_cell_type": "code",
    "deepnote_cell_height": 220
   },
   "source": "def get_rear_wheel_location(front_wheel_loc=np.zeros(2), theta=0, length=0):\n    rear_wheel_loc = np.zeros(2)\n    \n    #TODO: Add your code here  ------------------------------------------\n    rear_wheel_loc[0] = front_wheel_loc[0] - length*np.cos(theta)\n    rear_wheel_loc[1] = front_wheel_loc[1] - length*np.sin(theta)\n    #ENDTODO -----------------------------------------------------------\n    \n    return rear_wheel_loc",
   "outputs": [],
   "execution_count": null
  },
  {
   "cell_type": "markdown",
   "source": "**Test your code**\n\nWe have included a plot function ``display_bycicle_wheels`` to help you verify your answers. The function will display two frames, one to represent the rear wheel (red) and another to represent the front wheel (blue). Similarly, the function assumes that the steering angle $\\delta$ is set to zero. Here is an example of how to use it:",
   "metadata": {
    "cell_id": "00007-3ee83e79-391a-4148-b17f-d47868470e61",
    "deepnote_cell_type": "markdown",
    "deepnote_cell_height": 133.5625
   }
  },
  {
   "cell_type": "code",
   "metadata": {
    "cell_id": "00008-19439ddf-e950-4e50-8b31-ad81ef2fa81b",
    "deepnote_to_be_reexecuted": false,
    "execution_millis": 372,
    "execution_start": 1659690485180,
    "source_hash": "97d48256",
    "deepnote_cell_type": "code",
    "deepnote_cell_height": 495,
    "deepnote_output_heights": [
     331
    ]
   },
   "source": "front_wheel = np.ones(2)*2\ntheta_angle = 0\nrear_wheel = get_rear_wheel_location(front_wheel_loc=front_wheel, theta=theta_angle, length=0.5)\n\ndisplay_bicycle_wheels(rear_wheel, front_wheel, theta=theta_angle)",
   "outputs": [
    {
     "data": {
      "text/plain": "<Figure size 360x360 with 1 Axes>",
      "image/png": "[encoded data removed]"
     },
     "metadata": {
      "needs_background": "light",
      "image/png": {
       "width": 331,
       "height": 329
      }
     },
     "output_type": "display_data"
    }
   ],
   "execution_count": null
  },
  {
   "cell_type": "markdown",
   "source": "As visual test cases, we recommend to consider:\n\n- Where should be the front wheel if $\\theta=0$?\n- Where should be the front wheel if $\\theta=\\frac{\\pi}{2}$?",
   "metadata": {
    "cell_id": "00009-88189626-fa14-4315-bb49-6596c1006cb6",
    "deepnote_cell_type": "markdown",
    "deepnote_cell_height": 128.171875
   }
  },
  {
   "cell_type": "markdown",
   "source": "### Exercise 2 (3pts): Extend Bicycle Model to Consider Velocity and Steering Angle Rate as Inputs\n    \nIn the example of the bicycle model, the bicycle took as inputs velocity $v$ and steering angle $\\delta$.\n\nWe now want to modify our model so that it receives velocity $v$ and steering rate $\\varphi$ as control inputs instead. With this new control input, the bicycle state is now defined by its 2D position $(x,y)$,  orientation ($\\theta$) and steering angle ($\\delta$).\n\nYou are tasked with deriving the revised model to handle the modified inputs and using the new model to compute the bicycle state for a total of $max\\_T$ iterations using this new control input.\n\nYour code should input a constant input velocity and steering rate at each time step.\n\n**Input**:\n- 1D array with the initial bicycle state $[x, y, \\theta, \\delta]$\n- Bicycle length (length)\n- Maximum number of iterations (max_t)\n- Input velocity ($v_i$)\n- Input Steering_rate (phi)\n\n\n**Output**:\n- Array of bicycle states of length max_t. Column order must be $[x, y, \\theta, \\delta]$ (values should not be rounded)",
   "metadata": {
    "cell_id": "00010-afde78ba-906c-490c-bd39-50a5c66c24c6",
    "deepnote_cell_type": "markdown",
    "deepnote_cell_height": 547.46875
   }
  },
  {
   "cell_type": "code",
   "metadata": {
    "cell_id": "00011-3b8241af-ed08-44b6-a296-523f65d04d04",
    "deepnote_to_be_reexecuted": false,
    "execution_millis": 7,
    "execution_start": 1659690485553,
    "source_hash": "bee3eea2",
    "deepnote_cell_type": "code",
    "deepnote_cell_height": 364
   },
   "source": "def get_bicycle_trajectory(initial_state = np.array([1, 1, 0, 0]), length=1, max_t=100, v=0, phi=0):\n    \n    dt = 0.02\n    states = np.zeros((max_t+1, initial_state.shape[0]))\n    states[0,:] = initial_state\n    \n    \n    #TODO: Add your code here --------------------------------------------\n    for i in range(max_t):\n        delta = states[i,3] + phi*dt\n        x_state = states[i,0] + (v*np.cos(states[i,2]))*dt\n        y_state = states[i,1] + (v*np.sin(states[i,2]))*dt\n        theta = states[i,2] + ((v*np.tan(states[i,3]))/length)*dt\n        states[i+1,:] = [x_state, y_state, theta, delta]\n    #ENDTODO -------------------------------------------------------------\n        \n    return states",
   "outputs": [],
   "execution_count": null
  },
  {
   "cell_type": "markdown",
   "source": "**Test your code**\n\nWe have included a rendering class to help you verify your answers. Here is an example of how to use it:",
   "metadata": {
    "cell_id": "00012-55dd77d7-f0fd-4111-85a1-4e09644aa41a",
    "deepnote_cell_type": "markdown",
    "deepnote_cell_height": 88.78125
   }
  },
  {
   "cell_type": "code",
   "metadata": {
    "cell_id": "00013-f7751fbc-5e80-4dc8-a9e5-87378457bcd7",
    "deepnote_to_be_reexecuted": false,
    "execution_millis": 66,
    "execution_start": 1659690485565,
    "output_cleared": false,
    "source_hash": "2cb7bea7",
    "deepnote_cell_type": "code",
    "deepnote_cell_height": 419
   },
   "source": "# Input parameters\ninitial_state=np.array([5, -5, np.pi/2, 0.1])\nlength=1\nmax_t=250\nv_i=2.3\nphi=0.2\n\ntrj = get_bicycle_trajectory(initial_state, length, max_t, v_i, phi)\n\nvis.delete()\nvis.Set2DView(scale = abs(initial_state[0]) + 1)\nvis.mask_origin()\ndisplay_traj(vis, trj[:, :3], scale = 6)\ndisplay(vis.show_inline())",
   "outputs": [
    {
     "data": {
      "text/plain": "HBox(children=(Button(button_style='success', description='Play/Pause', layout=Layout(flex='1 1 0%', width='au…",
      "application/vnd.jupyter.widget-view+json": {
       "version_major": 2,
       "version_minor": 0,
       "model_id": "05263dbd6f0048e4a8b4e32a25e389e5"
      }
     },
     "metadata": {},
     "output_type": "display_data"
    },
    {
     "data": {
      "text/plain": "HTML(value='\\n                <div style=\"height: 400px; width: 100%; overflow-x: auto; overflow-y: hidden; re…",
      "application/vnd.jupyter.widget-view+json": {
       "version_major": 2,
       "version_minor": 0,
       "model_id": "1f6739ee642e466990abf427346c5340"
      }
     },
     "metadata": {},
     "output_type": "display_data"
    }
   ],
   "execution_count": null
  },
  {
   "cell_type": "markdown",
   "source": "As visual test cases, we recommend you to keep in mind that:\n\n- The bicycle should move in a straight line if $\\delta=0$, and $\\varphi=0$\n- The bicycle should move in a circular trajectory if $v \\ne 0$, $\\delta \\ne 0$, and $\\varphi=0$\n- The bicycle should move in a spiral trajectory if $v \\ne 0$, and $\\varphi\\ne0$",
   "metadata": {
    "cell_id": "00014-42684fae-6a47-4104-a8c6-ab2303f14729",
    "deepnote_cell_type": "markdown",
    "deepnote_cell_height": 153.5625
   }
  },
  {
   "cell_type": "markdown",
   "source": "### Exercise 3 (2pts): Differential Drive Kinematic Model\n\nLet us consider a two-wheeled vehicle that has the rotation rate of the wheels as control inputs. \n\n![diff_drive.png](https://i.imgur.com/IuNNzVB.png)\n\nGiven the kinematic constraints that relate the wheel rotation rates to the linear and angular velocity of the PenguiPi robot: \n\n$$\nv=\\frac{rw_1 + rw_2}{2} \n$$\n$$\n\\omega=\\frac{rw_1 - rw_2}{l}\n$$\n\ncompute the state, i.e., $[x, y, \\theta]$ of the PenguiPi robot for a total of $T_{max}$ iterations using this new control input.\n\n**Input**:\n- 1D array with the initial robot state $[x, y, \\theta]$\n- Wheels width (length, l)\n- Wheels radius (wheel_radius, r)\n- Maximum number of iterations (max_t)\n- Rotation rate of the right wheel (right_rate)\n- Rotation rate of the left wheel (left_rate)\n\n**Output**:\n- Array of robot states of length max_t. Column order must be $[x, y, \\theta]$ (values should not be rounded)",
   "metadata": {
    "cell_id": "00015-229c5b94-d897-426a-9daa-0d8adedf566e",
    "deepnote_cell_type": "markdown",
    "deepnote_cell_height": 943.625
   }
  },
  {
   "cell_type": "code",
   "metadata": {
    "cell_id": "00016-4941fc4c-939f-467a-b9d6-71ae1b7f9484",
    "deepnote_to_be_reexecuted": false,
    "execution_millis": 4,
    "execution_start": 1659690485635,
    "source_hash": "ef48a1d9",
    "deepnote_cell_type": "code",
    "deepnote_cell_height": 544
   },
   "source": "def get_penguipi_trajectory(initial_state = np.array([1, 1, 0]), length=1, wheel_radius=0.1,\n                            right_rate=0, left_rate=0, max_t=100):\n    \n    dt = 0.1\n    states = np.zeros((max_t+1, initial_state.shape[0]))\n    states[0, :] = initial_state\n    \n    #TODO: Add your code here --------------------------------------------\n    v = (wheel_radius*right_rate + wheel_radius*left_rate)/2\n    w = (wheel_radius*right_rate - wheel_radius*left_rate)/length\n\n    for i in range(max_t):\n        if w == 0:\n            x_state = states[i,0] + v*np.cos(states[i,2])*dt\n            y_state = states[i,1] + v*np.sin(states[i,2])*dt\n            theta = states[i,2]\n        \n        else:\n            R = v/w\n            theta = states[i,2] + w*dt\n            x_state = states[i,0] + R*(-np.sin(states[i,2]) + np.sin(theta))\n            y_state = states[i,1] + R*(np.cos(states[i,2]) - np.cos(theta))\n        \n        states[i+1,:] = [x_state, y_state, theta]\n    #ENDTODO -------------------------------------------------------------\n        \n    return states",
   "outputs": [],
   "execution_count": null
  },
  {
   "cell_type": "markdown",
   "source": "**Test your code**\n\nWe have included a rendering class to help you verify your answers. Here is an example of how to use it:\n",
   "metadata": {
    "cell_id": "00017-f4f25875-ff3b-4a8c-a6db-001c5207b629",
    "deepnote_cell_type": "markdown",
    "deepnote_cell_height": 88.78125
   }
  },
  {
   "cell_type": "code",
   "metadata": {
    "cell_id": "00018-0aade051-b240-4349-a6cc-b1c03b576732",
    "deepnote_to_be_reexecuted": false,
    "execution_millis": 54,
    "execution_start": 1659690485640,
    "owner_user_id": "39e5588c-373b-434e-8bfa-8e48976ef92a",
    "source_hash": "b1c6c257",
    "deepnote_cell_type": "code",
    "deepnote_cell_height": 437
   },
   "source": "# Input parameters\ninitial_state=np.array([0, 0, np.pi/6])\nlength=1\nwheel_radius=0.2\nright_rate=5\nleft_rate=5\nmax_t=100\n\ntrj = get_penguipi_trajectory(initial_state, length, wheel_radius, right_rate, left_rate, max_t)\n\nvis.delete()\nvis.Set2DView(scale = 4)\nvis.mask_origin()\ndisplay_traj(vis, trj[:, :3], scale = 6)\ndisplay(vis.show_inline())",
   "outputs": [
    {
     "data": {
      "text/plain": "HBox(children=(Button(button_style='success', description='Play/Pause', layout=Layout(flex='1 1 0%', width='au…",
      "application/vnd.jupyter.widget-view+json": {
       "version_major": 2,
       "version_minor": 0,
       "model_id": "612278d4327846deb62418c768bb855a"
      }
     },
     "metadata": {},
     "output_type": "display_data"
    },
    {
     "data": {
      "text/plain": "HTML(value='\\n                <div style=\"height: 400px; width: 100%; overflow-x: auto; overflow-y: hidden; re…",
      "application/vnd.jupyter.widget-view+json": {
       "version_major": 2,
       "version_minor": 0,
       "model_id": "c71f78ca5d224c1280620f6f3132d083"
      }
     },
     "metadata": {},
     "output_type": "display_data"
    }
   ],
   "execution_count": null
  },
  {
   "cell_type": "markdown",
   "source": "As visual test cases, we recommend you to keep in mind that:\n\n- The PenguiPi robot should move in a straight line if $w_1=w_2$\n- The PenguiPi robot should turn to the left if $w_1>w_2$ (the right wheel moves faster than the left wheel)\n- The PenguiPi robot should turn to the right if $w_1<w_2$ (the left wheel moves faster than the right wheel)",
   "metadata": {
    "cell_id": "00019-f80b10a8-1bbe-46fa-b584-3d3ad31592b6",
    "deepnote_cell_type": "markdown",
    "deepnote_cell_height": 153.5625
   }
  },
  {
   "cell_type": "markdown",
   "source": "# Grading\nTest cases for giving marks:\n- q1: Assess the `get_rear_wheel_location` function (2 points)\n- q2: Assess the `get_bicycle_trajectory` function (3 points)\n- q3: Assess the `get_penguipi_trajectory` function (2 points)\n\nHint: For question 2 and question 3, the body should have something like \n```\nfor i in range(max_t):\n    ...\n    states[i+1,:] = ...\n```\nBecause this is how the solution is constructed, the trajectory has `states[0, :] = initial_state` and the length of the trajectory should be equal to `max_t + 1`",
   "metadata": {
    "cell_id": "00020-7a4b4807-dfd2-41f5-93b8-72b00cf21744",
    "deepnote_cell_type": "markdown",
    "deepnote_cell_height": 385.125
   }
  },
  {
   "cell_type": "code",
   "metadata": {
    "cell_id": "00021-bc254610-6b1b-4d3b-9661-df80cda17076",
    "deepnote_to_be_reexecuted": false,
    "source_hash": "6e5b6290",
    "execution_start": 1659690485697,
    "execution_millis": 949,
    "deepnote_cell_type": "code",
    "deepnote_cell_height": 225.9375,
    "deepnote_output_heights": [
     97.9375
    ]
   },
   "source": "import otter\ngrader = otter.Notebook(tests_dir = \"Practical02_Support/tests\")\ngrader.check_all()",
   "outputs": [
    {
     "output_type": "execute_result",
     "execution_count": 9,
     "data": {
      "text/plain": "q1 results: All test cases passed!\n\nq2 results: All test cases passed!\n\nq3 results: All test cases passed!"
     },
     "metadata": {}
    }
   ],
   "execution_count": null
  },
  {
   "cell_type": "code",
   "metadata": {
    "cell_id": "19f38a14d0ad4277aec37bd89f50ee83",
    "tags": [],
    "deepnote_to_be_reexecuted": false,
    "source_hash": "b623e53d",
    "execution_start": 1659690486648,
    "execution_millis": 3,
    "deepnote_cell_type": "code",
    "deepnote_cell_height": 76
   },
   "source": "",
   "outputs": [],
   "execution_count": null
  },
  {
   "cell_type": "markdown",
   "source": "<a style='text-decoration:none;line-height:16px;display:flex;color:#5B5B62;padding:10px;justify-content:end;' href='https://deepnote.com?utm_source=created-in-deepnote-cell&projectId=bf15c7d9-36e3-40a2-982d-003df3d46459' target=\"_blank\">\n<img alt='Created in deepnote.com' style='display:inline;max-height:16px;margin:0px;margin-right:7.5px;' src='data:image/svg+xml;base64,PD94bWwgdmVyc2lvbj0iMS4wIiBlbmNvZGluZz0iVVRGLTgiPz4KPHN2ZyB3aWR0aD0iODBweCIgaGVpZ2h0PSI4MHB4IiB2aWV3Qm94PSIwIDAgODAgODAiIHZlcnNpb249IjEuMSIgeG1sbnM9Imh0dHA6Ly93d3cudzMub3JnLzIwMDAvc3ZnIiB4bWxuczp4bGluaz0iaHR0cDovL3d3dy53My5vcmcvMTk5OS94bGluayI+CiAgICA8IS0tIEdlbmVyYXRvcjogU2tldGNoIDU0LjEgKDc2NDkwKSAtIGh0dHBzOi8vc2tldGNoYXBwLmNvbSAtLT4KICAgIDx0aXRsZT5Hcm91cCAzPC90aXRsZT4KICAgIDxkZXNjPkNyZWF0ZWQgd2l0aCBTa2V0Y2guPC9kZXNjPgogICAgPGcgaWQ9IkxhbmRpbmciIHN0cm9rZT0ibm9uZSIgc3Ryb2tlLXdpZHRoPSIxIiBmaWxsPSJub25lIiBmaWxsLXJ1bGU9ImV2ZW5vZGQiPgogICAgICAgIDxnIGlkPSJBcnRib2FyZCIgdHJhbnNmb3JtPSJ0cmFuc2xhdGUoLTEyMzUuMDAwMDAwLCAtNzkuMDAwMDAwKSI+CiAgICAgICAgICAgIDxnIGlkPSJHcm91cC0zIiB0cmFuc2Zvcm09InRyYW5zbGF0ZSgxMjM1LjAwMDAwMCwgNzkuMDAwMDAwKSI+CiAgICAgICAgICAgICAgICA8cG9seWdvbiBpZD0iUGF0aC0yMCIgZmlsbD0iIzAyNjVCNCIgcG9pbnRzPSIyLjM3NjIzNzYyIDgwIDM4LjA0NzY2NjcgODAgNTcuODIxNzgyMiA3My44MDU3NTkyIDU3LjgyMTc4MjIgMzIuNzU5MjczOSAzOS4xNDAyMjc4IDMxLjY4MzE2ODMiPjwvcG9seWdvbj4KICAgICAgICAgICAgICAgIDxwYXRoIGQ9Ik0zNS4wMDc3MTgsODAgQzQyLjkwNjIwMDcsNzYuNDU0OTM1OCA0Ny41NjQ5MTY3LDcxLjU0MjI2NzEgNDguOTgzODY2LDY1LjI2MTk5MzkgQzUxLjExMjI4OTksNTUuODQxNTg0MiA0MS42NzcxNzk1LDQ5LjIxMjIyODQgMjUuNjIzOTg0Niw0OS4yMTIyMjg0IEMyNS40ODQ5Mjg5LDQ5LjEyNjg0NDggMjkuODI2MTI5Niw0My4yODM4MjQ4IDM4LjY0NzU4NjksMzEuNjgzMTY4MyBMNzIuODcxMjg3MSwzMi41NTQ0MjUgTDY1LjI4MDk3Myw2Ny42NzYzNDIxIEw1MS4xMTIyODk5LDc3LjM3NjE0NCBMMzUuMDA3NzE4LDgwIFoiIGlkPSJQYXRoLTIyIiBmaWxsPSIjMDAyODY4Ij48L3BhdGg+CiAgICAgICAgICAgICAgICA8cGF0aCBkPSJNMCwzNy43MzA0NDA1IEwyNy4xMTQ1MzcsMC4yNTcxMTE0MzYgQzYyLjM3MTUxMjMsLTEuOTkwNzE3MDEgODAsMTAuNTAwMzkyNyA4MCwzNy43MzA0NDA1IEM4MCw2NC45NjA0ODgyIDY0Ljc3NjUwMzgsNzkuMDUwMzQxNCAzNC4zMjk1MTEzLDgwIEM0Ny4wNTUzNDg5LDc3LjU2NzA4MDggNTMuNDE4MjY3Nyw3MC4zMTM2MTAzIDUzLjQxODI2NzcsNTguMjM5NTg4NSBDNTMuNDE4MjY3Nyw0MC4xMjg1NTU3IDM2LjMwMzk1NDQsMzcuNzMwNDQwNSAyNS4yMjc0MTcsMzcuNzMwNDQwNSBDMTcuODQzMDU4NiwzNy43MzA0NDA1IDkuNDMzOTE5NjYsMzcuNzMwNDQwNSAwLDM3LjczMDQ0MDUgWiIgaWQ9IlBhdGgtMTkiIGZpbGw9IiMzNzkzRUYiPjwvcGF0aD4KICAgICAgICAgICAgPC9nPgogICAgICAgIDwvZz4KICAgIDwvZz4KPC9zdmc+' > </img>\nCreated in <span style='font-weight:600;margin-left:4px;'>Deepnote</span></a>",
   "metadata": {
    "tags": [],
    "created_in_deepnote_cell": true,
    "deepnote_cell_type": "markdown"
   }
  }
 ],
 "nbformat": 4,
 "nbformat_minor": 5,
 "metadata": {
  "deepnote": {},
  "deepnote_execution_queue": [],
  "deepnote_notebook_id": "5c8567d1-80a3-4a5f-953d-816c417d2c17",
  "kernelspec": {
   "display_name": "Python 3",
   "language": "python",
   "name": "python3"
  },
  "language_info": {
   "codemirror_mode": {
    "name": "ipython",
    "version": 3
   },
   "file_extension": ".py",
   "mimetype": "text/x-python",
   "name": "python",
   "nbconvert_exporter": "python",
   "pygments_lexer": "ipython3",
   "version": "3.8.10"
  }
 }
}