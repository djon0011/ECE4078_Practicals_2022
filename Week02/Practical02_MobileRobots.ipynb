{
 "cells": [
  {
   "cell_type": "markdown",
   "source": "# Practical 2: Mobile Robots",
   "metadata": {
    "cell_id": "6ae32193-363c-4eb9-97e1-2ac4c3f5544c",
    "deepnote_cell_type": "markdown",
    "deepnote_cell_height": 82
   }
  },
  {
   "cell_type": "markdown",
   "source": "We will import the libraries in the following blocks.",
   "metadata": {
    "cell_id": "00002-78c07403-9f63-4ee3-b384-0fd519a374dc",
    "deepnote_cell_type": "markdown",
    "deepnote_cell_height": 52.390625
   }
  },
  {
   "cell_type": "code",
   "metadata": {
    "cell_id": "00003-efe83397-884a-452e-add2-b45e3eeb2dbc",
    "deepnote_to_be_reexecuted": false,
    "execution_millis": 525,
    "execution_start": 1659586000399,
    "source_hash": "781e1a36",
    "deepnote_cell_type": "code",
    "deepnote_cell_height": 148
   },
   "source": "from Practical02_Support.Renderer import *\nimport ipywidgets as widgets\nimport numpy as np\n\nfrom ece4078.Utility import StartMeshcat",
   "outputs": [],
   "execution_count": null
  },
  {
   "cell_type": "code",
   "metadata": {
    "cell_id": "d382f5c0a9794641901bbf89b018e999",
    "deepnote_to_be_reexecuted": false,
    "execution_millis": 23,
    "execution_start": 1659586000927,
    "source_hash": "34afddb1",
    "tags": [],
    "deepnote_cell_type": "code",
    "deepnote_cell_height": 179.1875,
    "deepnote_output_heights": [
     null,
     21.1875
    ]
   },
   "source": "vis = StartMeshcat()",
   "outputs": [
    {
     "name": "stdout",
     "text": "You can open the visualizer by visiting the following URL:\nhttp://127.0.0.1:8080/static/\n",
     "output_type": "stream"
    },
    {
     "data": {
      "text/plain": "<IPython.core.display.HTML object>",
      "text/html": "Meshcat URL if you are on Deepnote: <a href='https://9aa92eed-ac22-422b-9dcb-e90d130b2edd.deepnoteproject.com/static/' target='_blank'>https://9aa92eed-ac22-422b-9dcb-e90d130b2edd.deepnoteproject.com/static/</a>"
     },
     "metadata": {},
     "output_type": "display_data"
    }
   ],
   "execution_count": null
  },
  {
   "cell_type": "markdown",
   "source": "# 1. Bicycle Kinematic Model\n\nThe configuration (also known as state) of the bycycle is descibed by its 2D position and orientation, i.e., $(x, y, \\theta)$. The control inputs are the speed at the rear wheel and the steering angle at the front wheel, i.e., $(v, \\delta)$\n\nIn the following we implement the bicycle kinematic model and show how its motion is described in the world frame.",
   "metadata": {
    "cell_id": "00004-50c4f123-991f-4edf-85d2-95f716884b18",
    "deepnote_cell_type": "markdown",
    "deepnote_cell_height": 179.84375
   }
  },
  {
   "cell_type": "code",
   "metadata": {
    "cell_id": "00005-3b5bc8ae-b374-4222-a416-b35bc2a8a5ac",
    "deepnote_to_be_reexecuted": false,
    "execution_millis": 3,
    "execution_start": 1659586000955,
    "source_hash": "c87a10c2",
    "deepnote_cell_type": "code",
    "deepnote_cell_height": 940
   },
   "source": "class Bicycle(bot2D):\n    \"\"\"Implementation of the kinematic bicycle model (rear wheel model)\n    length = distance (in meters) between the wheels\n    gamma_max = maximum steering angle\n    speed_max = maximum speed\n    \"\"\"\n\n    def __init__(self, length=1, delta_max=np.pi/3, vel_max=5):\n        super().__init__()\n        \n        # Length between the wheels\n        self.length = length\n        \n        # Maximum velocity and steering angle\n        self.delta_max = delta_max\n        self.vel_max = vel_max\n        \n        # Initial control inputs\n        self.velocity = 0\n        self.delta = 0\n        \n    def update_control(self, v, delta):\n        self.velocity = np.clip(v, -self.vel_max, self.vel_max)\n        self.delta = np.clip(delta, -self.delta_max, self.delta_max)\n        \n    def drive(self, dt=0.01):\n        \"\"\"\n        Update the bicycle's state.\n        \"\"\"        \n        # Compute velocity using control input and current orientation\n        v_x = self.velocity * np.cos(self.theta)\n        v_y = self.velocity * np.sin(self.theta)\n        \n        # Compute next position\n        next_x = self.x + v_x * dt\n        next_y = self.y + v_y * dt\n                \n        # Compute angular velocity given control input (velocity and\n        # steering angle)\n        omega = self.velocity * np.tan(self.delta) / self.length\n        \n        # Compute next orientation\n        next_theta = self.theta + omega * dt\n        self.set_state(next_x, next_y, next_theta)\n        \n    def reset(self):\n        super().reset()\n        self.velocity = 0\n        self.delta = 0",
   "outputs": [],
   "execution_count": null
  },
  {
   "cell_type": "markdown",
   "source": "## Lets now test driving the bicycle\n- Use the slider to adjust the velocity and steering angle. \n- Currently the animation will play for 180 frames. You can adjust this number by providing the `max_iterations` argument to the function call `rend.initialize(bot, max_iterations=[integer])`",
   "metadata": {
    "cell_id": "00006-770a93be-878e-45f2-bb06-1bf82d903344",
    "deepnote_cell_type": "markdown",
    "deepnote_cell_height": 170.1875
   }
  },
  {
   "cell_type": "code",
   "metadata": {
    "cell_id": "00007-c4d61042-1b41-483b-9c69-e7191198b5f5",
    "deepnote_to_be_reexecuted": false,
    "execution_millis": 10,
    "execution_start": 1659586000969,
    "source_hash": "8c569d27",
    "deepnote_cell_type": "code",
    "deepnote_cell_height": 382
   },
   "source": "max_iterations = 180\nmax_vel = 5         # robot's maximum velocity\nmax_delta = np.pi/3 # robot's maximum steering angle\nbike_length = 0.25  # create a bicycle with .25 m between the rear and front wheel\nrobot_start_x = -2.8 # robot's starting x position\nrobot_start_y = -2.8 # robot's starting y position\nrobot_start_theta = np.pi/6 # robot's starting orientation\ntime_step = 0.05\n\nvis.delete()\nvis.Set2DView(scale = 5)\nvis.mask_origin()\nbot = Bicycle(bike_length, max_delta, max_vel)\nbot.set_state(robot_start_x, robot_start_y, robot_start_theta)\n\nrend = Renderer.Instance()\nrend.initialize(vis, bot, dt=time_step, max_iterations=max_iterations, realtime = True)\nrend.spawn_robot()",
   "outputs": [],
   "execution_count": null
  },
  {
   "cell_type": "code",
   "metadata": {
    "cell_id": "00008-2795064b-0532-4928-98ab-fa8e9888fa48",
    "deepnote_to_be_reexecuted": false,
    "execution_millis": 100,
    "execution_start": 1659586000989,
    "output_cleared": false,
    "source_hash": "d45613e8",
    "deepnote_cell_type": "code",
    "deepnote_cell_height": 1135
   },
   "source": "v_slider = widgets.FloatSlider(value=0, min=-max_vel, max=max_vel, step=0.1, \n                               description=r'Velocity (v)', readout_format='.1f')\ndelta_slider = widgets.FloatSlider(value=0, min=-max_delta, max=max_delta, step=0.05,\n                                   description=r'Angle (delta)', readout_format='.1f')\nui = widgets.HBox([v_slider, delta_slider])\ncontrol_widgets = widgets.interactive_output(bot.update_control, {'v': v_slider, 'delta': delta_slider})\ndisplay(ui, control_widgets)\n\nrend.show_control_panel()\ndef reset_bicycle(b = None):\n    rend.reset()\n    v_slider.value = 0\n    delta_slider.value = 0\nrend.btn_reset.on_click(reset_bicycle)\nrend.start_render_loop()\ndisplay(vis.show_inline(height = 500))",
   "outputs": [
    {
     "data": {
      "text/plain": "HBox(children=(FloatSlider(value=0.0, description='Velocity (v)', max=5.0, min=-5.0, readout_format='.1f'), Fl…",
      "application/vnd.jupyter.widget-view+json": {
       "version_major": 2,
       "version_minor": 0,
       "model_id": "522b31dccff940ef8ab70106ace76a3b"
      }
     },
     "metadata": {},
     "output_type": "display_data"
    },
    {
     "data": {
      "text/plain": "Output()",
      "application/vnd.jupyter.widget-view+json": {
       "version_major": 2,
       "version_minor": 0,
       "model_id": "58607515ce69456fa87455f3958ff143"
      }
     },
     "metadata": {},
     "output_type": "display_data"
    },
    {
     "data": {
      "text/plain": "HBox(children=(Button(button_style='success', description='Play/Pause', layout=Layout(flex='1 1 0%', width='au…",
      "application/vnd.jupyter.widget-view+json": {
       "version_major": 2,
       "version_minor": 0,
       "model_id": "41380acbc8a0497b813784c06884ca41"
      }
     },
     "metadata": {},
     "output_type": "display_data"
    },
    {
     "data": {
      "text/plain": "HTML(value='\\n                <div style=\"height: 500px; width: 100%; overflow-x: auto; overflow-y: hidden; re…",
      "application/vnd.jupyter.widget-view+json": {
       "version_major": 2,
       "version_minor": 0,
       "model_id": "4adc20c303824985a5ca6aa7f98174a3"
      }
     },
     "metadata": {},
     "output_type": "display_data"
    }
   ],
   "execution_count": null
  },
  {
   "cell_type": "markdown",
   "source": "# 2. PenguinPi Kinematic Model\n\n<img src=https://i.imgur.com/TvZ7gVN.jpg width=\"340\" height=\"300\">\n\n\nThe state of the robot is described by its 2D position $(x,y)$  and orientation $\\theta$. Our control inputs are the linear and angular velocity of the robot, i.e., $v$ and $\\omega$. \n\nWe will define the <code>drive(self, dt=0.02)</code> function that will update the state of the robot given a sequence of control inputs.\n\n**Interaction**\n- Move the sliders to change the control inputs\n\n**TODO**\n- Verify code correctness \n- Complete the code that makes the robot turn",
   "metadata": {
    "cell_id": "00009-c77d42d5-bc2c-4002-ae9b-9ee715cfd979",
    "deepnote_cell_type": "markdown",
    "deepnote_cell_height": 577.484375
   }
  },
  {
   "cell_type": "code",
   "metadata": {
    "cell_id": "00010-15a48056-abe3-4928-9d1d-91caf36e26c7",
    "deepnote_to_be_reexecuted": false,
    "execution_millis": 31695,
    "execution_start": 1659586001120,
    "source_hash": "49accbed",
    "deepnote_cell_type": "code",
    "deepnote_cell_height": 873
   },
   "source": "class PenguinPi(bot2D):\n\n    def __init__(self, max_v=5, max_omega=np.pi):\n        super().__init__()\n        \n        # Control inputs\n        self.linear_velocity = 0\n        self.angular_velocity = 0\n        \n        # Control input bounds\n        self.max_linear_velocity = max_v\n        self.max_angular_velocity = max_omega\n        \n    def update_control(self, linear_v, angular_v):\n        # We read the values from the sliders and update the robot's linear and angular velocity\n        self.linear_velocity = np.clip(linear_v, -self.max_linear_velocity, self.max_linear_velocity)\n        self.angular_velocity = np.clip(angular_v, -self.max_angular_velocity , self.max_angular_velocity)\n        \n    def drive(self, dt=0.02):\n        \"\"\"\n         Update the PenguiPi state\n        \"\"\"        \n\n        # Remember that the PenguiPi current state is given by self.x, self.y, self.theta        \n        # Apply the velocities\n        if self.angular_velocity == 0:\n\n            next_x = self.x + np.cos(self.theta)*self.linear_velocity*dt\n            next_y = self.y + np.sin(self.theta)*self.linear_velocity*dt\n            next_theta = self.theta\n        else:\n            #TODO: Complete code that make the robot turn-----------------------------\n            R = self.linear_velocity/self.angular_velocity\n            next_theta = self.theta + self.angular_velocity*dt\n            next_x = self.x + R(-np.sin(self.theta)+np.sin(next_theta))\n            next_y = self.y + R(np.cos(self.theta)-np.cos(next_theta))\n            #ENDTODO ------------------------------------------------------------------\n\n        # Make next state our current state\n        self.set_state(next_x, next_y, next_theta) \n        \n    def reset(self):\n        super().reset()\n        self.linear_velocity = 0\n        self.angular_velocity = 0",
   "outputs": [],
   "execution_count": null
  },
  {
   "cell_type": "markdown",
   "source": "## Lets now test driving the PenguiPi\n- Use the slider to adjust the velocity and steering angle\n- Currently the animation will play for 180 frames. You can adjust this number by providing the ```max_iterations``` argument to the function call ```rend.initialize(bot, max_iterations=[integer])```",
   "metadata": {
    "cell_id": "00011-acc3b021-5990-4dc0-a9cb-0dda6b3550ee",
    "deepnote_cell_type": "markdown",
    "deepnote_cell_height": 170.1875
   }
  },
  {
   "cell_type": "code",
   "metadata": {
    "cell_id": "00012-7d0efca4-b56a-4d54-8f96-7950668efdb3",
    "deepnote_to_be_reexecuted": false,
    "execution_millis": 0,
    "execution_start": 1659586001121,
    "source_hash": "304767d1",
    "deepnote_cell_type": "code",
    "deepnote_cell_height": 364
   },
   "source": "max_iterations = 180 # maximum number of animation frames\nmax_linear_vel = 5\nmax_angular_vel = np.pi\npibot_start_x = -3.0 # pibot's starting x position\npibot_start_y = -3.0 # pibot's starting y position\npibot_start_theta = np.pi/6 # pibot's starting orientation\ntime_step = 0.05\n\nvis.delete()\nvis.Set2DView(scale = 5)\nvis.mask_origin()\npi_bot = PenguinPi(max_linear_vel, max_angular_vel)\npi_bot.set_state(pibot_start_x, pibot_start_y, pibot_start_theta)\n\nrend = Renderer.Instance()\nrend.initialize(vis, pi_bot, dt=time_step, max_iterations=max_iterations, realtime = True)\nrend.spawn_robot()",
   "outputs": [],
   "execution_count": null
  },
  {
   "cell_type": "code",
   "metadata": {
    "cell_id": "00013-965feaa2-79c1-4e24-9cc5-c4bb7bf3feba",
    "deepnote_to_be_reexecuted": false,
    "execution_millis": 79,
    "execution_start": 1659586001121,
    "output_cleared": false,
    "owner_user_id": "39e5588c-373b-434e-8bfa-8e48976ef92a",
    "source_hash": "2534c128",
    "deepnote_cell_type": "code",
    "deepnote_cell_height": 1053
   },
   "source": "linear_slider = widgets.FloatSlider(value=0, min=-max_linear_vel, max=max_linear_vel, step=0.1, \n                                    description=r'v', readout_format='.1f')\nangular_slider = widgets.FloatSlider(value=0, min=-max_angular_vel, max=max_angular_vel, step=0.1,\n                                     description=r'omega', readout_format='.1f')\nui = widgets.HBox([linear_slider, angular_slider])\ncontrol_widgets = widgets.interactive_output(\n    pi_bot.update_control, {'linear_v': linear_slider, 'angular_v': angular_slider})\ndisplay(ui, control_widgets)\n\nrend.show_control_panel()\ndef reset_penguinpi(b = None):\n    rend.reset()\n    linear_slider.value = 0\n    angular_slider.value = 0\nrend.btn_reset.on_click(reset_penguinpi)\nrend.start_render_loop()\ndisplay(vis.show_inline())",
   "outputs": [
    {
     "data": {
      "text/plain": "HBox(children=(FloatSlider(value=0.0, description='v', max=5.0, min=-5.0, readout_format='.1f'), FloatSlider(v…",
      "application/vnd.jupyter.widget-view+json": {
       "version_major": 2,
       "version_minor": 0,
       "model_id": "4bd8aa9b9b0a4214b1c3ca66ec4f6968"
      }
     },
     "metadata": {},
     "output_type": "display_data"
    },
    {
     "data": {
      "text/plain": "Output()",
      "application/vnd.jupyter.widget-view+json": {
       "version_major": 2,
       "version_minor": 0,
       "model_id": "10b760cb7c7f47a295da63409bb55433"
      }
     },
     "metadata": {},
     "output_type": "display_data"
    },
    {
     "data": {
      "text/plain": "HBox(children=(Button(button_style='success', description='Play/Pause', layout=Layout(flex='1 1 0%', width='au…",
      "application/vnd.jupyter.widget-view+json": {
       "version_major": 2,
       "version_minor": 0,
       "model_id": "d3f30704e217403aac56591d5ca39ffd"
      }
     },
     "metadata": {},
     "output_type": "display_data"
    },
    {
     "data": {
      "text/plain": "HTML(value='\\n                <div style=\"height: 400px; width: 100%; overflow-x: auto; overflow-y: hidden; re…",
      "application/vnd.jupyter.widget-view+json": {
       "version_major": 2,
       "version_minor": 0,
       "model_id": "52bc237c847241ddab7df8f37807a257"
      }
     },
     "metadata": {},
     "output_type": "display_data"
    }
   ],
   "execution_count": null
  },
  {
   "cell_type": "code",
   "metadata": {
    "cell_id": "ee7f0bece6eb48139a6808d821ba8a42",
    "tags": [],
    "deepnote_to_be_reexecuted": false,
    "source_hash": "b623e53d",
    "execution_start": 1659586001255,
    "execution_millis": 31628,
    "deepnote_cell_type": "code",
    "deepnote_cell_height": 76
   },
   "source": "",
   "outputs": [],
   "execution_count": null
  },
  {
   "cell_type": "code",
   "metadata": {
    "cell_id": "873a89dbeb94465f9579f6d15c9b285f",
    "tags": [],
    "deepnote_to_be_reexecuted": false,
    "source_hash": "b623e53d",
    "execution_start": 1659586001256,
    "execution_millis": 31676,
    "deepnote_cell_type": "code",
    "deepnote_cell_height": 76
   },
   "source": "",
   "outputs": [],
   "execution_count": null
  },
  {
   "cell_type": "code",
   "source": "",
   "metadata": {
    "cell_id": "75d639bf12324490bae13125a34c5356",
    "tags": [],
    "deepnote_to_be_reexecuted": false,
    "source_hash": "b623e53d",
    "execution_start": 1659586001256,
    "execution_millis": 31675,
    "deepnote_cell_type": "code",
    "deepnote_cell_height": 76
   },
   "outputs": [],
   "execution_count": null
  },
  {
   "cell_type": "markdown",
   "source": "<a style='text-decoration:none;line-height:16px;display:flex;color:#5B5B62;padding:10px;justify-content:end;' href='https://deepnote.com?utm_source=created-in-deepnote-cell&projectId=9aa92eed-ac22-422b-9dcb-e90d130b2edd' target=\"_blank\">\n<img alt='Created in deepnote.com' style='display:inline;max-height:16px;margin:0px;margin-right:7.5px;' src='data:image/svg+xml;base64,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' > </img>\nCreated in <span style='font-weight:600;margin-left:4px;'>Deepnote</span></a>",
   "metadata": {
    "tags": [],
    "created_in_deepnote_cell": true,
    "deepnote_cell_type": "markdown"
   }
  }
 ],
 "nbformat": 4,
 "nbformat_minor": 5,
 "metadata": {
  "deepnote": {},
  "deepnote_execution_queue": [],
  "deepnote_notebook_id": "ce6cb62f-39f8-4ec4-8546-4c1e6530507c",
  "kernelspec": {
   "display_name": "Python 3",
   "language": "python",
   "name": "python3"
  },
  "language_info": {
   "codemirror_mode": {
    "name": "ipython",
    "version": 3
   },
   "file_extension": ".py",
   "mimetype": "text/x-python",
   "name": "python",
   "nbconvert_exporter": "python",
   "pygments_lexer": "ipython3",
   "version": "3.8.10"
  }
 }
}