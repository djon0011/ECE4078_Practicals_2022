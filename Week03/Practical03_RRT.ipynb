{
 "cells": [
  {
   "cell_type": "markdown",
   "source": "# Practical 03 - RRT Algorithm",
   "metadata": {
    "cell_id": "ec1957bb-4458-44fe-9118-fc7da6abca28",
    "deepnote_cell_type": "markdown",
    "deepnote_cell_height": 82
   }
  },
  {
   "cell_type": "code",
   "metadata": {
    "cell_id": "00002-fba18cb0-f4d6-49fc-91e7-5522d5ac8ce2",
    "deepnote_to_be_reexecuted": false,
    "execution_millis": 693,
    "execution_start": 1660038735965,
    "source_hash": "6715108f",
    "deepnote_cell_type": "code",
    "deepnote_cell_height": 400
   },
   "source": "from Practical03_Support.Obstacle import *\nfrom Practical03_Support.path_animation import *\nimport meshcat.geometry as g\nimport meshcat.transformations as tf\nimport os\n\nfrom ece4078.Utility import StartMeshcat\n\nimport numpy as np\nimport random\n\n# Import dependencies and set random seed\nseed_value = 5\n# 1. Set `PYTHONHASHSEED` environment variable at a fixed value\nos.environ['PYTHONHASHSEED'] = str(seed_value)\n# 2. Set `python` built-in pseudo-random generator at a fixed value\nrandom.seed(seed_value)\n# 3. Set `numpy` pseudo-random generator at a fixed value\nnp.random.seed(seed_value)",
   "execution_count": null,
   "outputs": []
  },
  {
   "cell_type": "code",
   "metadata": {
    "cell_id": "8fc9493961f34b7e9efc9621284eb18a",
    "deepnote_to_be_reexecuted": false,
    "execution_millis": 272,
    "execution_start": 1660038736661,
    "source_hash": "34afddb1",
    "tags": [],
    "deepnote_cell_type": "code",
    "deepnote_cell_height": 179.1875,
    "deepnote_output_heights": [
     null,
     21.1875
    ]
   },
   "source": "vis = StartMeshcat()",
   "execution_count": null,
   "outputs": [
    {
     "name": "stdout",
     "text": "You can open the visualizer by visiting the following URL:\nhttp://127.0.0.1:8080/static/\n",
     "output_type": "stream"
    },
    {
     "data": {
      "text/plain": "<IPython.core.display.HTML object>",
      "text/html": "Meshcat URL if you are on Deepnote: <a href='https://4d5f677b-31c2-4de2-8c0b-8d493dfe20c0.deepnoteproject.com/static/' target='_blank'>https://4d5f677b-31c2-4de2-8c0b-8d493dfe20c0.deepnoteproject.com/static/</a>"
     },
     "metadata": {},
     "output_type": "display_data"
    }
   ]
  },
  {
   "cell_type": "markdown",
   "source": "The class below shows a possible implementation of the RRT planning algorithm. The main methods are:\n\n``get_random_node(.)``, this method uniformly samples a new point in the space.\n\n``get_nearest_node_index(.)``, this method finds the index of the node in the tree that is the closest to a query node.\n\n``steer(.)``, given two nodes n_expansion and n_random to_node, this method generate a node n_nearby such that n_nearby is “closer” to n_random than to n_expansion.\n\n``is_collision_free(.)``, this method determines whether a new node is within the free-collision space\n\n``planning(.)``, this is the main algorithm. Starting with a node at the start location, this method incrementally adds new nodes to the tree roadmap. The main steps are:\n\n1. Generate a random node ``rnd_node``\n\n2. Select the node in the tree that is the closest ``rnd_node``. We refer to this node as ``expansion_node``.\n\n3. Choose a collision-free node along the path between ``expansion_node`` and ``rnd_node``. Add the new node to the tree roadmap. This is done by using the ``steer(.)`` and ``is_collision_free(.)`` methods one after the other.\n\n4. Repeat steps 1 to 3 until the maximum number of nodes has been reached or a path between start and goal nodes has been found.\n\n**TODO**:\n- Complete the ``planning(.)`` method. \n",
   "metadata": {
    "cell_id": "00003-ed3bc528-6069-47b8-b485-baaeaac1daa2",
    "deepnote_cell_type": "markdown",
    "deepnote_cell_height": 501
   }
  },
  {
   "cell_type": "code",
   "metadata": {
    "cell_id": "00004-e671223d-3cc6-4348-8117-8901aee2ac38",
    "deepnote_to_be_reexecuted": false,
    "execution_millis": 1,
    "execution_start": 1660038931313,
    "source_hash": "bb48991",
    "deepnote_cell_type": "code",
    "deepnote_cell_height": 3280
   },
   "source": "# This is an adapted version of the RRT implementation done by Atsushi Sakai (@Atsushi_twi)\n\nclass RRT:\n    \"\"\"\n    Class for RRT planning\n    \"\"\"\n\n    class Node:\n        \"\"\"\n        RRT Node\n        \"\"\"\n\n        def __init__(self, x, y):\n            self.x = x\n            self.y = y\n            self.path_x = []\n            self.path_y = []\n            self.parent = None\n\n    def __init__(self, start=np.zeros(2),\n                 goal=np.array([120,90]),\n                 obstacle_list=None,\n                 width = 160,\n                 height=100,\n                 expand_dis=3.0, \n                 path_resolution=0.5, \n                 max_points=200):\n        \"\"\"\n        Setting Parameter\n        start:Start Position [x,y]\n        goal:Goal Position [x,y]\n        obstacle_list: list of obstacle objects\n        width, height: search area\n        expand_dis: min distance between random node and closest node in rrt to it\n        path_resolion: step size to considered when looking for node to expand\n        \"\"\"\n        self.start = self.Node(start[0], start[1])\n        self.end = self.Node(goal[0], goal[1])\n        self.width = width\n        self.height = height\n        self.expand_dis = expand_dis\n        self.path_resolution = path_resolution\n        self.max_nodes = max_points\n        self.obstacle_list = obstacle_list\n        self.node_list = []\n\n    def planning(self, animation=True):\n        \"\"\"\n        rrt path planning\n        animation: flag for animation on or off\n        \"\"\"\n\n        self.node_list = [self.start]\n        while len(self.node_list) <= self.max_nodes:\n            \n            # 1. Generate a random node           \n            rnd_node = self.get_random_node()\n            \n            # 2. Find node in tree that is closest to sampled node.\n            # This is the node to be expanded (q_expansion)\n            expansion_ind = self.get_nearest_node_index(self.node_list, rnd_node)\n            expansion_node = self.node_list[expansion_ind]\n\n            #TODO:  Complete the last two main steps of the RRT algorithm ----------------\n            # 3. Select a node (nearby_node) close to expansion_node by moving from expantion_node to rnd_node\n            # Use the steer method\n            nearby_nod = self.steer(expansion_node, rnd_node, self.expand_dis)\n\n            # 4. Check if nearby_node is in free space (i.e., it is collision free). If collision free, add node\n            # to self.node_list\n            if self.is_collision_free(nearby_nod):\n                self.node_list.append(nearby_nod)\n\n            # Please remove return None when you start coding\n            # return None\n            #ENDTODO -----------------------------------------------------------------------\n                \n            # If we are close to goal, stop expansion and generate path\n            if self.calc_dist_to_goal(self.node_list[-1].x, self.node_list[-1].y) <= self.expand_dis:\n                final_node = self.steer(self.node_list[-1], self.end, self.expand_dis)\n                if self.is_collision_free(final_node):\n                    return self.generate_final_course(len(self.node_list) - 1)\n\n        return None  # cannot find path\n\n    \n    def steer(self, from_node, to_node, extend_length=float(\"inf\")):\n        \"\"\"\n        Given two nodes from_node, to_node, this method returns a node new_node such that new_node \n        is “closer” to to_node than from_node is.\n        \"\"\"\n        \n        new_node = self.Node(from_node.x, from_node.y)\n        d, theta = self.calc_distance_and_angle(new_node, to_node)\n        cos_theta, sin_theta = np.cos(theta), np.sin(theta)\n\n        new_node.path_x = [new_node.x]\n        new_node.path_y = [new_node.y]\n\n        if extend_length > d:\n            extend_length = d\n\n        # How many intermediate positions are considered between from_node and to_node\n        n_expand = math.floor(extend_length / self.path_resolution)\n\n        # Compute all intermediate positions\n        for _ in range(n_expand):\n            new_node.x += self.path_resolution * cos_theta\n            new_node.y += self.path_resolution * sin_theta\n            new_node.path_x.append(new_node.x)\n            new_node.path_y.append(new_node.y)\n\n        d, _ = self.calc_distance_and_angle(new_node, to_node)\n        if d <= self.path_resolution:\n            new_node.path_x.append(to_node.x)\n            new_node.path_y.append(to_node.y)\n\n        new_node.parent = from_node\n\n        return new_node\n\n\n    def is_collision_free(self, new_node):\n        \"\"\"\n        Determine if nearby_node (new_node) is in the collision-free space.\n        \"\"\"\n        if new_node is None:\n            return True\n\n        points = np.vstack((new_node.path_x, new_node.path_y)).T\n        for obs in self.obstacle_list:\n            in_collision = obs.is_in_collision_with_points(points)\n            if in_collision:\n                return False\n        \n        return True  # safe\n        \n    \n    def generate_final_course(self, goal_ind):\n        \"\"\"\n        Reconstruct path from start to end node\n        \"\"\"\n        path = [[self.end.x, self.end.y]]\n        node = self.node_list[goal_ind]\n        while node.parent is not None:\n            path.append([node.x, node.y])\n            node = node.parent\n        path.append([node.x, node.y])\n\n        return path\n\n    def calc_dist_to_goal(self, x, y):\n        dx = x - self.end.x\n        dy = y - self.end.y\n        return math.hypot(dx, dy)\n\n    def get_random_node(self):\n        x = self.width * np.random.random_sample()\n        y = self.height * np.random.random_sample()\n        rnd = self.Node(x, y)\n        return rnd\n\n    @staticmethod\n    def get_nearest_node_index(node_list, rnd_node):\n        # Compute Euclidean disteance between rnd_node and all nodes in tree\n        # Return index of closest element\n        dlist = [(node.x - rnd_node.x) ** 2 + (node.y - rnd_node.y)\n                 ** 2 for node in node_list]\n        minind = dlist.index(min(dlist))\n\n        return minind\n\n    @staticmethod\n    def calc_distance_and_angle(from_node, to_node):\n        dx = to_node.x - from_node.x\n        dy = to_node.y - from_node.y\n        d = math.hypot(dx, dy) #returns the Euclidean norm\n        theta = math.atan2(dy, dx)\n        return d, theta        ",
   "execution_count": null,
   "outputs": []
  },
  {
   "cell_type": "markdown",
   "source": "## RRT in action\n\nLet's see how a tree roadmap connecting a start and goal location is built\n\n**Interaction**:\n- Change the values of the parameters ``expand_dis, path_resolution`` and see how the tree roadmap changes. \n- Define new goal and start points and see how different trees and path are generated",
   "metadata": {
    "cell_id": "00005-48ab51c2-4269-47a1-aee8-00559d8e26ab",
    "deepnote_cell_type": "markdown",
    "deepnote_cell_height": 220.59375
   }
  },
  {
   "cell_type": "code",
   "metadata": {
    "cell_id": "00006-f9e11b44-b508-485e-bfe0-f961a6396dcc",
    "deepnote_to_be_reexecuted": false,
    "execution_millis": 1,
    "execution_start": 1660039075897,
    "source_hash": "8107d46b",
    "deepnote_cell_type": "code",
    "deepnote_cell_height": 220
   },
   "source": "#Set parameters\ngoal = np.array([11.5, 9.5])\nstart = np.array([0.5, 8.5])\n\nall_obstacles = [Circle(11.5, 5, 2), Circle(4.5, 2.5, 2),\n                 Circle(4.8, 8, 2.5)]\n\nrrt = RRT(start=start, goal=goal, width=16, height=10, obstacle_list=all_obstacles,\n          expand_dis=1, path_resolution=0.5)",
   "execution_count": null,
   "outputs": []
  },
  {
   "cell_type": "code",
   "metadata": {
    "cell_id": "00007-46d60e92-cbcf-4980-b616-514876e840da",
    "deepnote_to_be_reexecuted": false,
    "execution_millis": 829,
    "execution_start": 1660039076260,
    "output_cleared": false,
    "owner_user_id": "39e5588c-373b-434e-8bfa-8e48976ef92a",
    "source_hash": "769be2f8",
    "deepnote_cell_type": "code",
    "deepnote_cell_height": 136.796875
   },
   "source": "vis.delete()\nvis.Set2DView(scale = 20, center = [-1, 16, 12, 0])\nanimate_path_rrt(vis, rrt)\ndisplay(vis.show_inline(height = 500))",
   "execution_count": null,
   "outputs": [
    {
     "data": {
      "text/plain": "HTML(value='\\n                <div style=\"height: 500px; width: 100%; overflow-x: auto; overflow-y: hidden; re…",
      "application/vnd.jupyter.widget-view+json": {
       "version_major": 2,
       "version_minor": 0,
       "model_id": "b429f1bf337449828d1591a2ef972cbd"
      }
     },
     "metadata": {},
     "output_type": "display_data"
    }
   ]
  },
  {
   "cell_type": "code",
   "metadata": {
    "cell_id": "4916e8823de24f038db0cf8c4ae4a2ea",
    "tags": [],
    "deepnote_to_be_reexecuted": false,
    "source_hash": "b623e53d",
    "execution_start": 1660038768020,
    "execution_millis": 3,
    "deepnote_cell_type": "code",
    "deepnote_cell_height": 76
   },
   "source": "",
   "execution_count": null,
   "outputs": []
  },
  {
   "cell_type": "markdown",
   "source": "<a style='text-decoration:none;line-height:16px;display:flex;color:#5B5B62;padding:10px;justify-content:end;' href='https://deepnote.com?utm_source=created-in-deepnote-cell&projectId=4d5f677b-31c2-4de2-8c0b-8d493dfe20c0' target=\"_blank\">\n<img alt='Created in deepnote.com' style='display:inline;max-height:16px;margin:0px;margin-right:7.5px;' src='data:image/svg+xml;base64,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' > </img>\nCreated in <span style='font-weight:600;margin-left:4px;'>Deepnote</span></a>",
   "metadata": {
    "tags": [],
    "created_in_deepnote_cell": true,
    "deepnote_cell_type": "markdown"
   }
  }
 ],
 "nbformat": 4,
 "nbformat_minor": 2,
 "metadata": {
  "deepnote": {},
  "deepnote_execution_queue": [],
  "deepnote_notebook_id": "ff01b180-3e66-4bfc-bc86-c2dead3fb2f1",
  "kernelspec": {
   "display_name": "Python 3.8.10 64-bit",
   "language": "python",
   "name": "python3"
  },
  "language_info": {
   "codemirror_mode": {
    "name": "ipython",
    "version": 3
   },
   "file_extension": ".py",
   "mimetype": "text/x-python",
   "name": "python",
   "nbconvert_exporter": "python",
   "pygments_lexer": "ipython3",
   "version": "3.8.10"
  },
  "vscode": {
   "interpreter": {
    "hash": "916dbcbb3f70747c44a77c7bcd40155683ae19c65e1c03b4aa3499c5328201f1"
   }
  }
 }
}